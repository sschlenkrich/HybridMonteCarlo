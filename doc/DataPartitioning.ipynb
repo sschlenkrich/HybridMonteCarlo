{
 "metadata": {
  "language_info": {
   "codemirror_mode": {
    "name": "ipython",
    "version": 3
   },
   "file_extension": ".py",
   "mimetype": "text/x-python",
   "name": "python",
   "nbconvert_exporter": "python",
   "pygments_lexer": "ipython3",
   "version": "3.7.9-final"
  },
  "orig_nbformat": 2,
  "kernelspec": {
   "name": "python3",
   "display_name": "Python 3.7.9 64-bit ('Python3.7': conda)",
   "metadata": {
    "interpreter": {
     "hash": "af98fb13c0682ca4fe3350401d42f2a404b34a8b53a566210d6d775d501366cd"
    }
   }
  }
 },
 "nbformat": 4,
 "nbformat_minor": 2,
 "cells": [
  {
   "source": [
    "# Recursive Data Partitioning\n",
    "\n",
    "In this notebook be analyse an algorithm for recursive data partitioning. Such algorithms may be combined with regression methods to improve approximation accuracy. The method is a variant of [Local Regression](https://en.wikipedia.org/wiki/Local_regression) and [Regression Trees](https://en.wikipedia.org/wiki/Decision_tree_learning)."
   ],
   "cell_type": "markdown",
   "metadata": {}
  },
  {
   "source": [
    "## Introduction and Notation\n",
    "\n",
    "We consider a data set $C$ with $m$ observaions and $k$ control variables. The daa set is represented as matrix\n",
    "$$\n",
    "  C =\n",
    "    \\left[ \\begin{matrix}\n",
    "      c_{1,1} & \\ldots & c_{1,k} \\\\\n",
    "      \\vdots  &        & \\vdots  \\\\\n",
    "      c_{m,1} & \\ldots & c_{m,k}\n",
    "    \\end{matrix} \\right].\n",
    "$$\n",
    "We assume that the columns\n",
    "$$\n",
    "  C_j = \n",
    "    \\left[ \\begin{matrix}\n",
    "      c_{1,j}  \\\\\n",
    "      \\vdots   \\\\\n",
    "      c_{m,j} \n",
    "    \\end{matrix} \\right].\n",
    "$$\n",
    " ($j=1,\\ldots,k$) can be ordered. This assumption is naturally satisfied for real data points.\n",
    "\n",
    "We aim at specifying a recursive partitioning of the data set $C$ along the columns $C_1,\\ldots,C_k$. The partitioning is specified by an index list\n",
    "$$\n",
    "  {\\cal N} = \\left[ n_1, \\ldots, n_k \\right].\n",
    "$$\n",
    "Each $n_j\\geq 1$ represents the number of partitions for the $j$-th control variable. The recursive partitioning yields a total of\n",
    "$$\n",
    "  n = \\prod_{j=1}^k n_j\n",
    "$$\n",
    "partitions of the data set $C$."
   ],
   "cell_type": "markdown",
   "metadata": {}
  },
  {
   "source": [
    "## Assigning Data to Partitions\n",
    "\n",
    "We consider a data point\n",
    "$$\n",
    "  D = \\left[ d_1, \\ldots, d_k \\right].\n",
    "$$\n",
    "A data point $D$ is mapped to a particular partition $p\\in \\left\\{ 0, \\ldots, n-1 \\right\\}$ via an index function. The index function is decomposed into two steps.\n",
    "\n",
    "In a first step we assign the data point $D$ to a multi-index\n",
    "$$\n",
    " {\\cal I} = \\left[ i_1, \\ldots, i_k \\right].\n",
    "$$\n",
    "Each index component is $i_j \\in \\left\\{ 0, \\ldots, n_j-1 \\right\\}$. Details of that mapping are discussed in the forthcomming section.\n",
    "\n",
    "In a second step we calculate the partition $p$ from the multi-index ${\\cal I}$ via\n",
    "$$\n",
    "  p = \\sum_{j=1}^k i_j \\left(\\prod_{l=j+1}^k n_l \\right).\n",
    "$$\n",
    "Indeed, we have $p \\in \\left\\{ 0, \\ldots, n-1 \\right\\}$."
   ],
   "cell_type": "markdown",
   "metadata": {}
  },
  {
   "source": [
    "## Multi-Index Mapping\n",
    "\n",
    "In this section we specify the mapping of a data point $D$ to a multi-index ${\\cal I}$.\n",
    "\n",
    "We define a sequence of branching matrices $Q^{(1)}, \\ldots, Q^{(k)}$. Each branching matrix $Q^{(j)}$ is of shape\n",
    "$$\n",
    "  Q^{(j)} =\n",
    "    \\left[ \\begin{matrix}\n",
    "      q^{(j)}_{0,1}   & \\ldots & q^{(j)}_{0,n_j-1} \\\\\n",
    "      \\vdots          &        & \\vdots           \\\\\n",
    "      q^{(j)}_{m_j-1,1} & \\ldots & q^{(j)}_{m_j-1,n_j-1}   \n",
    "    \\end{matrix} \\right].\n",
    "$$\n",
    "The number of rows $m_j$ are given as\n",
    "$$\n",
    "  m_j = \\prod_{l=1}^{j-1} n_l.\n",
    "$$\n",
    "We note that the rows of the matrix $Q^{(j)}$ degenerate if $n_j=1$. This case corresponds to the situation where only a single partition for the observable $C_j$ is specified.\n",
    "\n",
    "The rows $q^{(j)}_{r}$ ($r=0,\\ldots,m_j-1$) are\n",
    "$$\n",
    "  q^{(j)}_{r} = \\left[ q^{(j)}_{r,1}, \\ldots, q^{(j)}_{r,n_j-1} \\right].\n",
    "$$\n",
    "The elements of each row represent quantiles of the distribution of data points $d_j$. We assume that the elements of $q^{(j)}_{r}$ are strictly monotonically increasing."
   ],
   "cell_type": "markdown",
   "metadata": {}
  },
  {
   "source": [
    "For a given row $q^{(j)}_{r}$ and a data point $d_j$ we define the search function $s\\left(q^{(j)}_{r},d_j\\right)$ as\n",
    "$$\n",
    "  s\\left(q^{(j)}_{r},d_j\\right) = \\min\\left\\{ i-1 \\; | \\; d_j < q^{(j)}_{r,i}  \\right\\}.\n",
    "$$\n",
    "If $d_j \\geq q^{(j)}_{r,n_j-1}$ then $s\\left(q^{(j)}_{r},d_j\\right) = n_j-1$. Moreover, if $n_j=1$ then $s\\left(q^{(j)}_{r},d_j\\right) = 0$. With this specification we get\n",
    "$$\n",
    "  s\\left(q^{(j)}_{r},d_j\\right) \\in \\left\\{ 0,\\ldots,n_j-1 \\right\\}.\n",
    "$$\n",
    "Such a search function is implemented via Numpy's *searchsorted* method."
   ],
   "cell_type": "markdown",
   "metadata": {}
  },
  {
   "source": [
    "The mapping of a data point $D$ to a multi-index ${\\cal I}$ is now specified recursively as\n",
    "$$\n",
    "  i_j = s\\left(q^{(j)}_{r_j},d_j\\right)\n",
    "$$\n",
    "with\n",
    "$$\n",
    "  r_j = \\sum_{t=1}^{j-1} i_t \\left(\\prod_{l=t+1}^{j-1} n_l \\right).\n",
    "$$"
   ],
   "cell_type": "markdown",
   "metadata": {}
  },
  {
   "source": [
    "## Calibration of Branching Matrices\n",
    "\n",
    "In this section we specify the calculation of the branching matrices $Q^{(1)}, \\ldots, Q^{(k)}$. Input to the calculation procedure is the data set $C$.\n",
    "\n",
    "We start with $Q^{(1)} = \\left[ q^{(1)}_{0,1}, \\ldots, q^{(1)}_{0,n_1-1} \\right]$. If $n_1=1$ then $Q^{(1)}$ is empty. Otherwise, we set $q^{(1)}_{0,t}$ ($t=1,\\ldots,n_1-1$) to the $t/n_1$-quantile of the sample $C_1$.\n",
    "\n",
    "With $Q^{(1)}$ we can now calculate $i_1$ for each row of $C$.\n",
    "\n",
    "The calculation of $Q^{(j)}$ for $j=2,\\ldots,k$ is now derived recursively. We calculate $r_j$ for each row of $C$. Next we sort and divide the data set $C$ according to $r_j$.\n",
    "\n",
    "For each $r = 0,\\ldots,m_j-1$ we select the rows $\\tilde C$ of the original data set $C$ with $r_j=r$. If $n_j=1$ then $q^{(j)}_{r}$ is empty. Otherwise, we set $q^{(j)}_{r,t}$ ($t=1,\\ldots,n_j-1$) to the $t/n_j$-quantile of the sample $\\tilde C_j$.\n",
    "\n",
    "With the branching matrix $Q^{(j)}$ we can now also calculate $i_j$ for each row of $C$.\n",
    "\n",
    "After the calculation of all $i_j$ ($j=1,\\ldots,k$) for all rows of $C$ we can then finally calculate the partition index $p$."
   ],
   "cell_type": "markdown",
   "metadata": {}
  },
  {
   "cell_type": "code",
   "execution_count": null,
   "metadata": {},
   "outputs": [],
   "source": []
  },
  {
   "source": [
    "## Code"
   ],
   "cell_type": "markdown",
   "metadata": {}
  },
  {
   "cell_type": "code",
   "execution_count": null,
   "metadata": {},
   "outputs": [],
   "source": [
    "import numpy as np\n",
    "import pandas as pd"
   ]
  },
  {
   "cell_type": "code",
   "execution_count": null,
   "metadata": {},
   "outputs": [],
   "source": [
    "partition = lambda I, N : int(np.sum([ i*p for i, p in \\\n",
    "    zip(I, [np.prod(N[j+1:]) for j in range(I.shape[0])]) ]))\n",
    "\"\"\"\n",
    "Calculate the partition index for a given multi-index.\n",
    "\"\"\""
   ]
  },
  {
   "cell_type": "code",
   "execution_count": null,
   "metadata": {},
   "outputs": [],
   "source": [
    "def index(d, N, I, Q):\n",
    "    \"\"\"\n",
    "    Calculate the index i for the element d given a partitioning.\n",
    "\n",
    "    Arguments:\n",
    "    d -- a scalar data points\n",
    "    N -- a 1-dim array of number of partitions\n",
    "    I -- a 1-dim array of indices for elements before d\n",
    "    Q -- a 2-dim array used as branching matrix\n",
    "    \"\"\"\n",
    "    assert len(N.shape) == 1\n",
    "    assert len(I.shape) == 1\n",
    "    assert I.shape[0] == N.shape[0] - 1\n",
    "    # indices must be consistent with partitions\n",
    "    for i, n in zip(I,N[:-1]):\n",
    "        assert 0 <= i\n",
    "        assert i <  n\n",
    "    # we must have at least one (last) partition\n",
    "    assert N[-1] > 0\n",
    "    # branching matrix must have consistent shape\n",
    "    m_j = 1  # default for empty N[:-1]\n",
    "    if N.shape[0]>1:\n",
    "        m_j = np.prod(N[:-1])\n",
    "    assert Q.shape == (m_j, N[-1]-1)\n",
    "    #\n",
    "    if N[-1] == 1:\n",
    "        return 0\n",
    "    r = partition(I,N[:-1])\n",
    "    i = np.searchsorted(Q[r],d)\n",
    "    return i"
   ]
  },
  {
   "cell_type": "code",
   "execution_count": null,
   "metadata": {},
   "outputs": [],
   "source": [
    "def branching_matrix(I, C, N):\n",
    "    \"\"\"\n",
    "    Calculate a branching matrix for a data column C and given partitioning.\n",
    "\n",
    "    Arguments:\n",
    "    I -- a 2-dim array of indices for all elements before C\n",
    "    C -- a 1-dim array of data points used for calibration\n",
    "    N -- a 1-dim array of number of partitions\n",
    "    \"\"\"\n",
    "    assert len(I.shape) == 2\n",
    "    assert len(C.shape) == 1\n",
    "    assert len(N.shape) == 1\n",
    "    assert I.shape == (C.shape[0], N.shape[0] - 1)\n",
    "    # indices must be consistent with partitions\n",
    "    for i, n in zip(np.transpose(I),N[:-1]):\n",
    "        assert np.all(0 <= i)\n",
    "        assert np.all(i <  n)\n",
    "    # we must have at least one (last) partition\n",
    "    assert N[-1] > 0\n",
    "    # \n",
    "    m_j = 1  # default for empty N[:-1]\n",
    "    if N.shape[0]>1:\n",
    "        m_j = np.prod(N[:-1])\n",
    "    if N[-1] == 1:\n",
    "        Q  = np.zeros([m_j,0])  #  degenerated brnaching matrix\n",
    "        return Q\n",
    "    #\n",
    "    quantiles = np.array([ t/N[-1] for t in range(1,N[-1]) ])  # equal partitions\n",
    "    P = np.array([ partition(i,N[:-1]) for i in I ])\n",
    "    Q = np.array([\n",
    "        np.quantile(C[P==r], quantiles) for r in range(m_j) ])\n",
    "    return Q"
   ]
  },
  {
   "cell_type": "code",
   "execution_count": null,
   "metadata": {},
   "outputs": [],
   "source": [
    "def calculate_partitioning(C, N):\n",
    "    \"\"\"\n",
    "    Calculate a partitioning for a data set C and partition indices N\n",
    "\n",
    "    Arguments:\n",
    "    C -- a 2-dim array of data points used for calibration\n",
    "    N -- a 1-dim array of number of partitions\n",
    "    \"\"\"\n",
    "    assert len(C.shape) == 2\n",
    "    assert len(N.shape) == 1\n",
    "    assert C.shape[1] == N.shape[0]\n",
    "    assert np.all(N > 0)\n",
    "    I = np.zeros([C.shape[0],0])\n",
    "    Q_list = []\n",
    "    for j in range(N.shape[0]):\n",
    "        #print(j)\n",
    "        Q_j = branching_matrix(I,C[:,j],N[:j+1])\n",
    "        #print(Q_j)\n",
    "        I_j = np.array([ index(c, N[:j+1], i, Q_j) for c, i in zip(C[:,j],I) ])\n",
    "        #print(I_j)\n",
    "        I_j.shape = (I_j.shape[0], 1)\n",
    "        I = np.append(I, I_j, axis=1)\n",
    "        Q_list += [Q_j]\n",
    "    P =  np.array([ partition(i,N) for i in I])\n",
    "    return I, Q_list, P"
   ]
  },
  {
   "cell_type": "code",
   "execution_count": null,
   "metadata": {},
   "outputs": [],
   "source": [
    "def multi_index(d, N, Q_list):\n",
    "    \"\"\"\n",
    "    Calculate the multi-index for a data set d and a given list of branching matrices.\n",
    "\n",
    "    Arguments:\n",
    "    d -- a 1-dim array representing a data point\n",
    "    N -- a 1-dim array of number of partitions\n",
    "    Q_list -- list of branching matrices\n",
    "    \"\"\"\n",
    "    assert len(d.shape) == 1\n",
    "    assert len(N.shape) == 1\n",
    "    assert d.shape[0] == N.shape[0]\n",
    "    assert d.shape[0] == len(Q_list)\n",
    "    I = np.zeros([0])\n",
    "    for j in range(d.shape[0]):\n",
    "        i = index(d[j], N[:j+1], I, Q_list[j])\n",
    "        I = np.append(I,i)\n",
    "    return I"
   ]
  },
  {
   "source": [
    "## Testing"
   ],
   "cell_type": "markdown",
   "metadata": {}
  },
  {
   "source": [
    "We start by creating a test data set."
   ],
   "cell_type": "markdown",
   "metadata": {}
  },
  {
   "cell_type": "code",
   "execution_count": null,
   "metadata": {},
   "outputs": [],
   "source": [
    "rg = np.random.Generator(np.random.PCG64(123))\n",
    "C = rg.standard_normal([1000,3])\n",
    "C.shape"
   ]
  },
  {
   "cell_type": "code",
   "execution_count": null,
   "metadata": {},
   "outputs": [],
   "source": [
    "N = np.array([3,2,3])\n",
    "I, Q_, P = calculate_partitioning(C,N)\n",
    "Q_"
   ]
  },
  {
   "cell_type": "code",
   "execution_count": null,
   "metadata": {},
   "outputs": [],
   "source": [
    "multi_index(C[3],N,Q_)"
   ]
  },
  {
   "cell_type": "code",
   "execution_count": null,
   "metadata": {},
   "outputs": [],
   "source": [
    "I[3]"
   ]
  },
  {
   "cell_type": "code",
   "execution_count": null,
   "metadata": {},
   "outputs": [],
   "source": [
    "import matplotlib.pyplot as plt"
   ]
  },
  {
   "cell_type": "code",
   "execution_count": null,
   "metadata": {},
   "outputs": [],
   "source": [
    "for j in [0,1,2]:\n",
    "    plt.figure()\n",
    "    plt.plot(P,C[:,j],'.',label='C[%s]' % j)\n",
    "    plt.legend()"
   ]
  },
  {
   "source": [
    "## Application for Regression"
   ],
   "cell_type": "markdown",
   "metadata": {}
  },
  {
   "cell_type": "code",
   "execution_count": null,
   "metadata": {},
   "outputs": [],
   "source": [
    "import sys\n",
    "sys.path.append('../')  # make python find our modules\n",
    "from hybmc.mathutils.Regression import Regression"
   ]
  },
  {
   "cell_type": "code",
   "execution_count": null,
   "metadata": {},
   "outputs": [],
   "source": [
    "class PieceWiseRegression:\n",
    "    \"\"\"\n",
    "    Split regressions based on break point.\n",
    "\n",
    "    For details see https://en.wikipedia.org/wiki/Segmented_regression\n",
    "    \"\"\"\n",
    "\n",
    "    def __init__(self, controls, observations, \\\n",
    "        maxPolynomialDegree=2, partitioning=None):\n",
    "        self.maxPolynomialDegree = maxPolynomialDegree\n",
    "        self.partitioning = partitioning\n",
    "        if self.partitioning is None:    # default\n",
    "            self.partitioning = np.array([ 1 for j in range(controls.shape[1]) ])\n",
    "        #\n",
    "        I, Q_list, P = calculate_partitioning(controls, self.partitioning)\n",
    "        self.Q_list = Q_list\n",
    "        self.regressions = []\n",
    "        for r in range(np.prod(self.partitioning)):\n",
    "            self.regressions.append(Regression(controls[P==r], observations[P==r], \\\n",
    "                self.maxPolynomialDegree))\n",
    "\n",
    "    def value(self, control):\n",
    "        I = multi_index(control, self.partitioning, self.Q_list)\n",
    "        r = partition(I, self.partitioning)\n",
    "        v = self.regressions[r].value(control)\n",
    "        return v\n"
   ]
  },
  {
   "source": [
    "## Black-Scholes Example"
   ],
   "cell_type": "markdown",
   "metadata": {}
  },
  {
   "cell_type": "code",
   "execution_count": null,
   "metadata": {},
   "outputs": [],
   "source": [
    "S0 = 1.0\n",
    "sigma = 0.15\n",
    "times = np.array([0.0, 1.8, 2.0])\n",
    "nPaths = 2**13\n",
    "rg = np.random.Generator(np.random.PCG64(123))\n",
    "dW = rg.standard_normal([nPaths,times.shape[0]-1])\n",
    "X = np.zeros([nPaths,times.shape[0]])\n",
    "for k in range(times.shape[0]-1):\n",
    "    dt = times[k+1]-times[k]\n",
    "    X[:,k+1] = X[:,k] - 0.5*sigma**2 * dt + (sigma*np.sqrt(dt)) * dW[:,k]\n",
    "S = S0 * np.exp(X)\n",
    "V_T = np.maximum(S[:,2] - S0, 0.0)"
   ]
  },
  {
   "cell_type": "code",
   "execution_count": null,
   "metadata": {},
   "outputs": [],
   "source": [
    "from hybmc.mathutils.Helpers import Black\n",
    "V_t = Black(S0, S[:,1], sigma, times[2]-times[1], 1.0)"
   ]
  },
  {
   "cell_type": "code",
   "execution_count": null,
   "metadata": {},
   "outputs": [],
   "source": [
    "d = 2\n",
    "p = np.array([3])\n",
    "regression = PieceWiseRegression(S[:,1:2], V_T, d, p)\n",
    "R_t = np.array([ regression.value(c) for c in S[:,1:2] ])"
   ]
  },
  {
   "cell_type": "code",
   "execution_count": null,
   "metadata": {},
   "outputs": [],
   "source": [
    "import matplotlib.pyplot as plt"
   ]
  },
  {
   "cell_type": "code",
   "execution_count": null,
   "metadata": {},
   "outputs": [],
   "source": [
    "plt.plot(S[:,1], V_t, 'r.', label='Black')\n",
    "plt.plot(S[:,2], V_T, 'b.', label='Payoff')\n",
    "plt.legend()"
   ]
  },
  {
   "cell_type": "code",
   "execution_count": null,
   "metadata": {},
   "outputs": [],
   "source": [
    "plt.plot(S[:,1], V_t, 'r.', label='Black')\n",
    "plt.plot(S[:,1], R_t, 'g.', label='Regression')\n",
    "plt.legend()"
   ]
  },
  {
   "cell_type": "code",
   "execution_count": null,
   "metadata": {},
   "outputs": [],
   "source": []
  }
 ]
}